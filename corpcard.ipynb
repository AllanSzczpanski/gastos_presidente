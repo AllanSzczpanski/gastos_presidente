{
 "cells": [
  {
   "cell_type": "markdown",
   "id": "f9c0ddac-195c-435b-85b0-de23f59b2f93",
   "metadata": {},
   "source": [
    "# Checking presidential corporate card \n",
    "<pre>\n",
    "Data Source https://www.gov.br/secretariageral/pt-br/acesso-a-informacao/informacoes-classificadas-e-desclassificadas/Planilha12003a2022.csv\n",
    "</pre>"
   ]
  },
  {
   "cell_type": "code",
   "execution_count": null,
   "id": "6c579f42-6bd1-416d-9e5e-0e1ff9788c58",
   "metadata": {},
   "outputs": [],
   "source": [
    "import pandas as pd\n",
    "import plotly \n",
    "import matplotlib.pyplot as plt\n"
   ]
  },
  {
   "cell_type": "code",
   "execution_count": null,
   "id": "271d172a-e046-44da-9a2d-767b78750ca8",
   "metadata": {},
   "outputs": [],
   "source": [
    "def clean_currency(x):\n",
    "    \"\"\" If the value is a string, then remove currency symbol and delimiters\n",
    "    otherwise, the value is numeric and can be converted\n",
    "    \"\"\"\n",
    "    if isinstance(x, str):\n",
    "        return(x.replace('R$', '').replace('.', '').replace(' ','').replace(',','.'))\n",
    "    return(x)"
   ]
  },
  {
   "cell_type": "code",
   "execution_count": null,
   "id": "60cdbfdf-976a-4489-9134-e6f7f286b9ae",
   "metadata": {},
   "outputs": [],
   "source": [
    "# Read Presidential corporate card\n",
    "df=pd.read_csv('Planilha12003a2022.csv.gz', sep=\";\", encoding=\"latin-1\")[['DATA PGTO','VALOR']]\n",
    "df = df.rename(columns={'DATA PGTO':'date','VALOR':'value'})\n"
   ]
  },
  {
   "cell_type": "code",
   "execution_count": null,
   "id": "95902606-7deb-4ac7-84f1-88dc95924946",
   "metadata": {},
   "outputs": [],
   "source": [
    "# Convert values to numbers\n",
    "df['value']=df['value'].apply(clean_currency)\n",
    "df=df[~df['value'].isna()]\n",
    "\n",
    "try:\n",
    "    df['value'] = pd.to_numeric(df['value']) \n",
    "except ValueError:\n",
    "    # I want to register on my log the message recived on ORIGINAL VALUE\n",
    "    mask = pd.to_numeric(df['value'], errors='coerce').isna() \n",
    "    #if possible missing values\n",
    "    #mask = pd.to_numeric(df['ORIGINAL_VALUE'].fillna('0'), errors='coerce').isna() \n",
    "    L = df.loc[mask, 'value'].tolist()\n",
    "    #print (\"Not converted values are: \" + \", \".join(L))\n",
    "    #Not converted values are: Wrong format\n",
    "    print(f\"Ignoring not converted values are: {L}\")\n",
    "    \n",
    "# Select Just numbers\n",
    "df=df.loc[df[\"value\"].str.contains(\"\\d+\")]\n",
    "df['value']=pd.to_numeric(df['value'], errors='coerce').fillna(0, downcast='infer')\n",
    "# convert date\n",
    "df['date']=pd.to_datetime(df['date'],format='%d/%m/%Y')\n"
   ]
  },
  {
   "cell_type": "markdown",
   "id": "d466d076-1ce9-4654-b988-b1ee8e8c894e",
   "metadata": {},
   "source": [
    "# Presidential expenses by day"
   ]
  },
  {
   "cell_type": "code",
   "execution_count": null,
   "id": "577b887f-c339-42ef-9f01-8bf85c779267",
   "metadata": {},
   "outputs": [],
   "source": []
  },
  {
   "cell_type": "code",
   "execution_count": null,
   "id": "4d701df2-9ff9-4b1c-925e-8a9391befed8",
   "metadata": {},
   "outputs": [],
   "source": [
    "data=df.set_index('date')\n",
    "fig, ax = plt.subplots()\n",
    "data.plot(title=\"Gastos com cartao corporativo 2003-2022\",figsize=(25, 6), fontsize=8, ax=ax)\n",
    "ax.legend([\"Valor em Reais\"]);\n",
    "fig.savefig('diario.png')"
   ]
  },
  {
   "cell_type": "markdown",
   "id": "ce51e8a3-b8d3-427e-87fd-661dba8b0be5",
   "metadata": {},
   "source": [
    "# Expenses by year"
   ]
  },
  {
   "cell_type": "code",
   "execution_count": null,
   "id": "3ecc9990-28d8-44ce-8cf9-064d3deffd4b",
   "metadata": {},
   "outputs": [],
   "source": [
    "data = df.groupby(df.date.dt.year)['value'].agg(['sum'])\n",
    "\n",
    "fig, ax = plt.subplots()\n",
    "data.plot(kind='bar', title=\"Gastos com cartao corporativo 2003-2022\",figsize=(15, 6), fontsize=12, ax=ax)\n",
    "ax.legend([\"Valor em Reais\"]);\n",
    "fig.savefig('anual.png')\n",
    "\n"
   ]
  },
  {
   "cell_type": "code",
   "execution_count": null,
   "id": "0e50e4f5-2669-4836-974a-94c857604188",
   "metadata": {},
   "outputs": [],
   "source": [
    "\n"
   ]
  },
  {
   "cell_type": "code",
   "execution_count": null,
   "id": "5e72baad-b8e8-415f-aa5f-d9ff01d72f28",
   "metadata": {},
   "outputs": [],
   "source": []
  }
 ],
 "metadata": {
  "kernelspec": {
   "display_name": "Python 3 (ipykernel)",
   "language": "python",
   "name": "python3"
  },
  "language_info": {
   "codemirror_mode": {
    "name": "ipython",
    "version": 3
   },
   "file_extension": ".py",
   "mimetype": "text/x-python",
   "name": "python",
   "nbconvert_exporter": "python",
   "pygments_lexer": "ipython3",
   "version": "3.8.5"
  }
 },
 "nbformat": 4,
 "nbformat_minor": 5
}
